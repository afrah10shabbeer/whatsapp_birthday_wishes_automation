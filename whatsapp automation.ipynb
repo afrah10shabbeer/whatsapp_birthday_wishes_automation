{
 "cells": [
  {
   "cell_type": "markdown",
   "id": "0d5e7050",
   "metadata": {},
   "source": [
    "# Installation"
   ]
  },
  {
   "cell_type": "code",
   "execution_count": 2,
   "id": "3ebf415f",
   "metadata": {
    "scrolled": true
   },
   "outputs": [
    {
     "name": "stdout",
     "output_type": "stream",
     "text": [
      "Collecting google-api-python-client\n",
      "  Downloading google_api_python_client-2.90.0-py2.py3-none-any.whl (11.4 MB)\n",
      "\u001b[2K     \u001b[38;2;114;156;31m━━━━━━━━━━━━━━━━━━━━━━━━━━━━━━━━━━━━━━━━\u001b[0m \u001b[32m11.4/11.4 MB\u001b[0m \u001b[31m38.3 kB/s\u001b[0m eta \u001b[36m0:00:00\u001b[0mm eta \u001b[36m0:00:01\u001b[0m[36m0:00:07\u001b[0m\n",
      "\u001b[?25hRequirement already satisfied: google-auth<3.0.0.dev0,>=1.19.0 in /home/afrah/.local/lib/python3.10/site-packages (from google-api-python-client) (2.17.3)\n",
      "Collecting google-auth-httplib2>=0.1.0\n",
      "  Downloading google_auth_httplib2-0.1.0-py2.py3-none-any.whl (9.3 kB)\n",
      "Collecting httplib2<1.dev0,>=0.15.0\n",
      "  Downloading httplib2-0.22.0-py3-none-any.whl (96 kB)\n",
      "\u001b[2K     \u001b[38;2;114;156;31m━━━━━━━━━━━━━━━━━━━━━━━━━━━━━━━━━━━━━━━━\u001b[0m \u001b[32m96.9/96.9 kB\u001b[0m \u001b[31m54.4 kB/s\u001b[0m eta \u001b[36m0:00:00\u001b[0m31m67.2 kB/s\u001b[0m eta \u001b[36m0:00:01\u001b[0m\n",
      "\u001b[?25hCollecting uritemplate<5,>=3.0.1\n",
      "  Downloading uritemplate-4.1.1-py2.py3-none-any.whl (10 kB)\n",
      "Collecting google-api-core!=2.0.*,!=2.1.*,!=2.2.*,!=2.3.0,<3.0.0.dev0,>=1.31.5\n",
      "  Downloading google_api_core-2.11.1-py3-none-any.whl (120 kB)\n",
      "\u001b[2K     \u001b[38;2;114;156;31m━━━━━━━━━━━━━━━━━━━━━━━━━━━━━━━━━━━━━━\u001b[0m \u001b[32m120.5/120.5 kB\u001b[0m \u001b[31m41.2 kB/s\u001b[0m eta \u001b[36m0:00:00\u001b[0m31m40.5 kB/s\u001b[0m eta \u001b[36m0:00:01\u001b[0m\n",
      "\u001b[?25hRequirement already satisfied: protobuf!=3.20.0,!=3.20.1,!=4.21.0,!=4.21.1,!=4.21.2,!=4.21.3,!=4.21.4,!=4.21.5,<5.0.0.dev0,>=3.19.5 in /home/afrah/.local/lib/python3.10/site-packages (from google-api-core!=2.0.*,!=2.1.*,!=2.2.*,!=2.3.0,<3.0.0.dev0,>=1.31.5->google-api-python-client) (4.22.3)\n",
      "Requirement already satisfied: requests<3.0.0.dev0,>=2.18.0 in /home/afrah/.local/lib/python3.10/site-packages (from google-api-core!=2.0.*,!=2.1.*,!=2.2.*,!=2.3.0,<3.0.0.dev0,>=1.31.5->google-api-python-client) (2.28.2)\n",
      "Collecting googleapis-common-protos<2.0.dev0,>=1.56.2\n",
      "  Downloading googleapis_common_protos-1.59.1-py2.py3-none-any.whl (224 kB)\n",
      "\u001b[2K     \u001b[38;2;114;156;31m━━━━━━━━━━━━━━━━━━━━━━━━━━━━━━━━━━━━━━\u001b[0m \u001b[32m224.5/224.5 kB\u001b[0m \u001b[31m33.9 kB/s\u001b[0m eta \u001b[36m0:00:00\u001b[0m kB/s\u001b[0m eta \u001b[36m0:00:01\u001b[0m:01\u001b[0m\n",
      "\u001b[?25hRequirement already satisfied: rsa<5,>=3.1.4 in /home/afrah/.local/lib/python3.10/site-packages (from google-auth<3.0.0.dev0,>=1.19.0->google-api-python-client) (4.9)\n",
      "Requirement already satisfied: cachetools<6.0,>=2.0.0 in /home/afrah/.local/lib/python3.10/site-packages (from google-auth<3.0.0.dev0,>=1.19.0->google-api-python-client) (5.3.0)\n",
      "Requirement already satisfied: pyasn1-modules>=0.2.1 in /home/afrah/.local/lib/python3.10/site-packages (from google-auth<3.0.0.dev0,>=1.19.0->google-api-python-client) (0.3.0)\n",
      "Requirement already satisfied: six>=1.9.0 in /home/afrah/anaconda3/lib/python3.10/site-packages (from google-auth<3.0.0.dev0,>=1.19.0->google-api-python-client) (1.16.0)\n",
      "Requirement already satisfied: pyparsing!=3.0.0,!=3.0.1,!=3.0.2,!=3.0.3,<4,>=2.4.2 in /home/afrah/anaconda3/lib/python3.10/site-packages (from httplib2<1.dev0,>=0.15.0->google-api-python-client) (3.0.9)\n",
      "Requirement already satisfied: pyasn1<0.6.0,>=0.4.6 in /home/afrah/.local/lib/python3.10/site-packages (from pyasn1-modules>=0.2.1->google-auth<3.0.0.dev0,>=1.19.0->google-api-python-client) (0.5.0)\n",
      "Requirement already satisfied: urllib3<1.27,>=1.21.1 in /home/afrah/anaconda3/lib/python3.10/site-packages (from requests<3.0.0.dev0,>=2.18.0->google-api-core!=2.0.*,!=2.1.*,!=2.2.*,!=2.3.0,<3.0.0.dev0,>=1.31.5->google-api-python-client) (1.26.14)\n",
      "Requirement already satisfied: idna<4,>=2.5 in /home/afrah/anaconda3/lib/python3.10/site-packages (from requests<3.0.0.dev0,>=2.18.0->google-api-core!=2.0.*,!=2.1.*,!=2.2.*,!=2.3.0,<3.0.0.dev0,>=1.31.5->google-api-python-client) (3.4)\n",
      "Requirement already satisfied: charset-normalizer<4,>=2 in /home/afrah/.local/lib/python3.10/site-packages (from requests<3.0.0.dev0,>=2.18.0->google-api-core!=2.0.*,!=2.1.*,!=2.2.*,!=2.3.0,<3.0.0.dev0,>=1.31.5->google-api-python-client) (3.1.0)\n",
      "Requirement already satisfied: certifi>=2017.4.17 in /home/afrah/anaconda3/lib/python3.10/site-packages (from requests<3.0.0.dev0,>=2.18.0->google-api-core!=2.0.*,!=2.1.*,!=2.2.*,!=2.3.0,<3.0.0.dev0,>=1.31.5->google-api-python-client) (2022.12.7)\n",
      "Installing collected packages: uritemplate, httplib2, googleapis-common-protos, google-auth-httplib2, google-api-core, google-api-python-client\n",
      "Successfully installed google-api-core-2.11.1 google-api-python-client-2.90.0 google-auth-httplib2-0.1.0 googleapis-common-protos-1.59.1 httplib2-0.22.0 uritemplate-4.1.1\n",
      "Note: you may need to restart the kernel to use updated packages.\n"
     ]
    }
   ],
   "source": [
    "pip install google-api-python-client"
   ]
  },
  {
   "cell_type": "code",
   "execution_count": 1,
   "id": "ec79cd0a",
   "metadata": {},
   "outputs": [
    {
     "name": "stdout",
     "output_type": "stream",
     "text": [
      "Requirement already satisfied: oauthlib in /home/afrah/anaconda3/lib/python3.10/site-packages (3.2.2)\n",
      "Note: you may need to restart the kernel to use updated packages.\n"
     ]
    }
   ],
   "source": [
    "pip install oauthlib"
   ]
  },
  {
   "cell_type": "markdown",
   "id": "f4cecefb",
   "metadata": {},
   "source": [
    "# OAuth 2.0 setup"
   ]
  },
  {
   "cell_type": "code",
   "execution_count": 48,
   "id": "0d240553",
   "metadata": {},
   "outputs": [],
   "source": [
    "from apiclient.discovery import build\n",
    "from google_auth_oauthlib.flow import InstalledAppFlow"
   ]
  },
  {
   "cell_type": "code",
   "execution_count": 49,
   "id": "6ce16699",
   "metadata": {},
   "outputs": [],
   "source": [
    "scopes = ['https://www.googleapis.com/auth/calendar']"
   ]
  },
  {
   "cell_type": "code",
   "execution_count": 50,
   "id": "d98b876e",
   "metadata": {},
   "outputs": [],
   "source": [
    "# This flow is used to obtain user consent and generate credentials that allow the application to access certain APIs on behalf of the user.\n",
    "\n",
    "flow = InstalledAppFlow.from_client_secrets_file(\"client_secret.json\",scopes = scopes)"
   ]
  },
  {
   "cell_type": "code",
   "execution_count": 51,
   "id": "f96b67c7",
   "metadata": {},
   "outputs": [],
   "source": [
    "# Saving credentials into a variable so as to avoid manual running\n",
    "# credentials = flow.run_local_server(port=0) "
   ]
  },
  {
   "cell_type": "code",
   "execution_count": 52,
   "id": "824450df",
   "metadata": {},
   "outputs": [],
   "source": [
    "# Saving the credentials into a pickle file\n",
    "\n",
    "import pickle\n",
    "\n",
    "# pickle.dump(credentials,open(\"credential_token.pkl\",\"wb\"))\n",
    "credentials = pickle.load(open(\"credential_token.pkl\",\"rb\"))"
   ]
  },
  {
   "cell_type": "code",
   "execution_count": 53,
   "id": "80672317",
   "metadata": {},
   "outputs": [],
   "source": [
    "# Generating a service\n",
    "service = build(\"calendar\",\"v3\",credentials = credentials)\n"
   ]
  },
  {
   "cell_type": "markdown",
   "id": "c9e7483b",
   "metadata": {},
   "source": [
    "# Get my Calendar"
   ]
  },
  {
   "cell_type": "code",
   "execution_count": 54,
   "id": "ac5368e0",
   "metadata": {},
   "outputs": [],
   "source": [
    "calendar_response = service.calendarList().list().execute()\n",
    "# calendar_response"
   ]
  },
  {
   "cell_type": "markdown",
   "id": "103f7c3d",
   "metadata": {},
   "source": [
    "# Get all My calendar events"
   ]
  },
  {
   "cell_type": "code",
   "execution_count": 55,
   "id": "4cf3e3d8",
   "metadata": {},
   "outputs": [],
   "source": [
    "calendar_id = calendar_response['items'][0]['id']\n"
   ]
  },
  {
   "cell_type": "code",
   "execution_count": 56,
   "id": "ad3d4374",
   "metadata": {},
   "outputs": [],
   "source": [
    "# Google Calendar API to retrieve a list of events from a specific calendar based on a search query.\n",
    "calendar_event_response = service.events().list(calendarId = calendar_id,q=\"birthday\",orderBy=\"startTime\",singleEvents=\"true\").execute()"
   ]
  },
  {
   "cell_type": "code",
   "execution_count": 57,
   "id": "6ee9d4ca",
   "metadata": {},
   "outputs": [],
   "source": [
    "birthday_events = calendar_event_response['items']"
   ]
  },
  {
   "cell_type": "code",
   "execution_count": 2,
   "id": "ade7ab6c",
   "metadata": {},
   "outputs": [],
   "source": [
    "import emoji"
   ]
  },
  {
   "cell_type": "code",
   "execution_count": 3,
   "id": "9de667d0",
   "metadata": {},
   "outputs": [],
   "source": [
    "# Customised birthday wish\n",
    "def get_birthday_msg(name):\n",
    "    \n",
    "    return f\"Happy birthday, {name}!🥳🎂 May your special day be filled with joy, love, and wonderful memories😍❤. Wishing you happiness and success in the year ahead😇. Enjoy your celebration!🎊🎉\"\n"
   ]
  },
  {
   "cell_type": "code",
   "execution_count": 4,
   "id": "185e1ff9",
   "metadata": {},
   "outputs": [],
   "source": [
    "import pywhatkit"
   ]
  },
  {
   "cell_type": "code",
   "execution_count": 7,
   "id": "36080967",
   "metadata": {},
   "outputs": [],
   "source": [
    "def send_message_to_whatsapp(name,mobile_number):\n",
    "    \n",
    "    message = get_birthday_msg(name)\n",
    "\n",
    "    hours = 12\n",
    "    minutes = 0\n",
    "\n",
    "    # Send msg at specific time (11:59 PM)\n",
    "#     pywhatkit.sendwhatmsg(mobile_number,message,hours,minutes)\n",
    "\n",
    "    # Send msg instantly\n",
    "    pywhatkit.sendwhatmsg_instantly(mobile_number,message)\n",
    "\n",
    "send_message_to_whatsapp(\"Alice\",\"+919550731837\")"
   ]
  },
  {
   "cell_type": "code",
   "execution_count": 62,
   "id": "341274b4",
   "metadata": {},
   "outputs": [],
   "source": [
    "from datetime import datetime\n",
    "\n",
    "# Converting the datetime from str to <datetime> type\n",
    "def extract_date(date_time_string):\n",
    "    \n",
    "    # Parse the string and extract the date\n",
    "    datetime_obj = datetime.strptime(date_time_string,\"%Y-%m-%dT%H:%M:%SZ\")\n",
    "    \n",
    "    date_only = datetime_obj.date()\n",
    "\n",
    "    # Return the extracted date\n",
    "    return date_only\n",
    "    \n",
    "    "
   ]
  },
  {
   "cell_type": "code",
   "execution_count": null,
   "id": "b4a9664c",
   "metadata": {},
   "outputs": [],
   "source": []
  },
  {
   "cell_type": "markdown",
   "id": "bc36bd61",
   "metadata": {},
   "source": [
    "# Schedule the birthday wishes"
   ]
  },
  {
   "cell_type": "code",
   "execution_count": 63,
   "id": "f5f073c6",
   "metadata": {},
   "outputs": [],
   "source": [
    "# Schdeule the birthday wish to run at a specific date and time\n"
   ]
  },
  {
   "cell_type": "code",
   "execution_count": 68,
   "id": "4613cd0c",
   "metadata": {},
   "outputs": [],
   "source": [
    "def extract_details():\n",
    "    \n",
    "    # Extracting mobile number\n",
    "    mobile_number = person_event['description']\n",
    "    mobile_number = mobile_number.split(' ')[-1]\n",
    "\n",
    "    # Extracting name of the birthday boy/girl\n",
    "    name = person_event['summary']\n",
    "    name = name.split(\"'\")[0]\n",
    "\n",
    "    # Extract time\n",
    "    birthdate = person_event['start']['dateTime']\n",
    "    birthdate = extract_date(birthdate)\n",
    "    \n",
    "    return mobile_number,name,birthdate"
   ]
  },
  {
   "cell_type": "code",
   "execution_count": 69,
   "id": "36eceb09",
   "metadata": {},
   "outputs": [
    {
     "name": "stdout",
     "output_type": "stream",
     "text": [
      "Hai Ammaar\n"
     ]
    },
    {
     "ename": "KeyboardInterrupt",
     "evalue": "",
     "output_type": "error",
     "traceback": [
      "\u001b[0;31m---------------------------------------------------------------------------\u001b[0m",
      "\u001b[0;31mKeyboardInterrupt\u001b[0m                         Traceback (most recent call last)",
      "Cell \u001b[0;32mIn[69], line 29\u001b[0m\n\u001b[1;32m     27\u001b[0m \u001b[38;5;28;01mwhile\u001b[39;00m \u001b[38;5;28;01mTrue\u001b[39;00m:\n\u001b[1;32m     28\u001b[0m     schedule\u001b[38;5;241m.\u001b[39mrun_pending()\n\u001b[0;32m---> 29\u001b[0m     \u001b[43mtime\u001b[49m\u001b[38;5;241;43m.\u001b[39;49m\u001b[43msleep\u001b[49m\u001b[43m(\u001b[49m\u001b[38;5;241;43m1\u001b[39;49m\u001b[43m)\u001b[49m\n",
      "\u001b[0;31mKeyboardInterrupt\u001b[0m: "
     ]
    }
   ],
   "source": [
    "import schedule\n",
    "import time\n",
    "from datetime import datetime, timedelta,date\n",
    "\n",
    "    \n",
    "# Retrieve the name and contact number for automating birthday wishes\n",
    "for person_event in birthday_events:\n",
    "\n",
    "    number,name,birthdate = extract_details()\n",
    "    \n",
    "    # Calculate the scheduled datetime for wishes (11:59 PM on the previous day)\n",
    "    scheduled_date = birthdate - timedelta(days=1)\n",
    "    \n",
    "    # Get the current time\n",
    "    current_date = date.today()\n",
    "    \n",
    "    if scheduled_date == current_date:\n",
    "        \n",
    "        # Schedule the wishes to be sent at the current time, RUN EVERYDAY\n",
    "        schedule.every().day.at(\"12:00\").do(send_message_to_whatsapp,name = name,mobile_number = number)\n",
    "        \n",
    "        # Run the scheduling check continuously\n",
    "        while True:\n",
    "            schedule.run_pending()\n",
    "            time.sleep(1)\n",
    "\n"
   ]
  }
 ],
 "metadata": {
  "kernelspec": {
   "display_name": "Python 3 (ipykernel)",
   "language": "python",
   "name": "python3"
  },
  "language_info": {
   "codemirror_mode": {
    "name": "ipython",
    "version": 3
   },
   "file_extension": ".py",
   "mimetype": "text/x-python",
   "name": "python",
   "nbconvert_exporter": "python",
   "pygments_lexer": "ipython3",
   "version": "3.10.9"
  }
 },
 "nbformat": 4,
 "nbformat_minor": 5
}
